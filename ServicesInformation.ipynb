{
 "cells": [
  {
   "cell_type": "markdown",
   "metadata": {},
   "source": [
    "From the Cell Tab > Run All. \n",
    "\n",
    "Run this notebook to get workspace and manifest information for all Referenced Services.\n",
    "\n",
    "Connect to your GIS under GIS Connection.\n",
    "\n",
    "Default export directory is C:\\temp. Verify a temp folder exists in the c drive or adjust folder location. "
   ]
  },
  {
   "cell_type": "markdown",
   "metadata": {
    "heading_collapsed": true
   },
   "source": [
    "# Import Modules"
   ]
  },
  {
   "cell_type": "code",
   "execution_count": null,
   "metadata": {
    "hidden": true
   },
   "outputs": [],
   "source": [
    "from arcgis.gis import GIS\n",
    "import pandas as pd\n",
    "import json\n",
    "from datetime import datetime\n",
    "import os"
   ]
  },
  {
   "cell_type": "markdown",
   "metadata": {
    "heading_collapsed": true
   },
   "source": [
    "# Defined Functions"
   ]
  },
  {
   "cell_type": "code",
   "execution_count": null,
   "metadata": {
    "hidden": true
   },
   "outputs": [],
   "source": [
    "def get_feature_service_url(service_url, extensions):\n",
    "    \"\"\"Return FeatureServer URL if extension is enabled.\"\"\"\n",
    "    for ext in extensions:\n",
    "        if ext['typeName'] == 'FeatureServer' and ext['enabled'] == 'true':\n",
    "            base_url = service_url.replace('.MapServer', '/FeatureServer').replace(f'{ags.url}', f'{rest_url}')\n",
    "            return base_url\n",
    "    return \"\"\n",
    "\n",
    "def parse_connection_string(conn_str):\n",
    "    \"\"\"\n",
    "    Parses an ArcGIS Server onServerConnectionString into (server, database, user).\n",
    "    Returns 'Unknown' for any missing keys.\n",
    "    \"\"\"\n",
    "    try:\n",
    "        kv_pairs = [item.split('=', 1) for item in conn_str.split(';') if '=' in item]\n",
    "        conn_info = {key.strip(): value.strip() for key, value in kv_pairs}\n",
    "        \n",
    "        server = conn_info.get('SERVER', 'Unknown').lower()\n",
    "        database = conn_info.get('DATABASE', 'Unknown')\n",
    "        user = conn_info.get('USER', 'Unknown')\n",
    "        \n",
    "        return (server, database, user)\n",
    "    except Exception:\n",
    "        return ('Unknown', 'Unknown', 'Unknown')\n",
    "\n",
    "def extract_manifest_info(manifest):\n",
    "    \"\"\"Safely extract publishing document path and publisher.\"\"\"\n",
    "    try:\n",
    "        resource = manifest['resources'][0]\n",
    "        return resource['onPremisePath'], resource['clientName']\n",
    "    except (KeyError, IndexError):\n",
    "        return None, None"
   ]
  },
  {
   "cell_type": "markdown",
   "metadata": {},
   "source": [
    "# GIS Connection"
   ]
  },
  {
   "cell_type": "code",
   "execution_count": null,
   "metadata": {},
   "outputs": [],
   "source": [
    "gis = GIS(url='portal url', username=\"admin_user\", password=\"password\")\n",
    "gis"
   ]
  },
  {
   "cell_type": "markdown",
   "metadata": {},
   "source": [
    "# Script"
   ]
  },
  {
   "cell_type": "code",
   "execution_count": null,
   "metadata": {},
   "outputs": [],
   "source": [
    "# Connect to ArcGIS Server and define variable\n",
    "ags_index = 0\n",
    "ags = gis.admin.servers.list()[ags_index]\n",
    "\n",
    "#grab the AGS rest url\n",
    "rest_url = gis.admin.servers.properties['servers'][ags_index]['url'] + '/rest'\n",
    "\n",
    "print(f\"Server: {ags}\\n\")\n",
    "print(f\"Rest Services Directory: {rest_url}\\n\")\n",
    "\n",
    "\n",
    "#Grab Service workspace and manifest information\n",
    "\n",
    "'''Add any folders you wish to excude'''\n",
    "\n",
    "excluded_folders = {'System', 'Utilities', 'Hosted'}\n",
    "\n",
    "\n",
    "records = []\n",
    "total_count = 0\n",
    "\n",
    "# --- Loop through folders and services ---\n",
    "for folder in ags.services.folders:\n",
    "    if folder in excluded_folders:\n",
    "        continue\n",
    "\n",
    "    for service in ags.services.list(folder=folder):\n",
    "        s_url = service.url.replace(f'{ags.url}', f'{rest_url}')\n",
    "        if service.serviceName == 'SampleWorldCities':\n",
    "            continue\n",
    "\n",
    "        # Format correct /MapServer URL\n",
    "        s_url = s_url.replace('.MapServer', '/MapServer')\n",
    "        print(s_url)\n",
    "\n",
    "        fs_url = get_feature_service_url(service.url, service.properties.extensions)\n",
    "\n",
    "        if service.properties.type != 'MapServer':\n",
    "            continue\n",
    "\n",
    "        s_type = service.properties.type\n",
    "        s_name = service.properties.serviceName\n",
    "        s_status = service.status['realTimeState']\n",
    "        provider = service.properties.provider\n",
    "        manifest = service.iteminformation.manifest\n",
    "\n",
    "        publish_doc, publisher = extract_manifest_info(manifest)\n",
    "        if not publish_doc:\n",
    "            continue\n",
    "\n",
    "        conn_str = manifest['databases'][0]['onServerConnectionString']\n",
    "        server, db_name, db_user = parse_connection_string(conn_str)\n",
    "\n",
    "        records.append((\n",
    "            folder, s_type, s_name, s_status,\n",
    "            s_url, fs_url, server, db_name, db_user,\n",
    "            provider, publish_doc, publisher\n",
    "        ))\n",
    "        total_count += 1\n",
    "\n",
    "# --- Output results ---\n",
    "print(f\"Total services processed: {total_count}\")\n",
    "\n",
    "columns = [\n",
    "    'Folder', 'Type', 'Name', 'Status', \"Url\", \"Feature Access\",\n",
    "    \"SQL Server\", \"DB Name\", \"DB User\", \"Provider\",\n",
    "    \"Publishing Document\", \"Publisher\"\n",
    "]\n",
    "df = pd.DataFrame(records, columns=columns)\n",
    "\n",
    "# Replace provider values with readable form\n",
    "df['Provider'] = df['Provider'].replace({\n",
    "    'DMaps': 'Pro: Shared',\n",
    "    'ArcObjects11': 'Pro: Dedicated',\n",
    "    'ArcObjects': 'ArcMap: Dedicated'\n",
    "})\n",
    "\n",
    "timestamp = datetime.now().strftime('%Y%m%d_%H_%M')\n",
    "export_folder = r\"C:\\temp\"\n",
    "output_path = os.path.join(export_folder, f\"{portal.upper()}_{timestamp}.xlsx\")\n",
    "\n",
    "df.to_excel(output_path, index=False)\n",
    "df.head(10)"
   ]
  },
  {
   "cell_type": "markdown",
   "metadata": {},
   "source": [
    "# Export Location"
   ]
  },
  {
   "cell_type": "code",
   "execution_count": null,
   "metadata": {},
   "outputs": [],
   "source": [
    "print(f\"Export complete: {output_path}\")"
   ]
  },
  {
   "cell_type": "code",
   "execution_count": null,
   "metadata": {},
   "outputs": [],
   "source": []
  }
 ],
 "metadata": {
  "kernelspec": {
   "display_name": "ArcGISPro",
   "language": "python",
   "name": "python3"
  },
  "language_info": {
   "file_extension": ".py",
   "mimetype": "text/x-python",
   "name": "python",
   "version": "3.11.10"
  }
 },
 "nbformat": 4,
 "nbformat_minor": 4
}
