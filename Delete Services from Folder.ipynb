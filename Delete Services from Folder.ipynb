{
 "cells": [
  {
   "cell_type": "markdown",
   "id": "e305bc68",
   "metadata": {},
   "source": [
    "# Import Modules and Define Helper Functions"
   ]
  },
  {
   "cell_type": "code",
   "execution_count": null,
   "id": "282dee95",
   "metadata": {},
   "outputs": [],
   "source": [
    "from arcgis.gis import GIS\n",
    "import pandas as pd\n",
    "\n",
    "def adjust_url(service):\n",
    "    # Adjust the service URL to replace \"admin\" with \"rest\" and format the URL correctly\n",
    "    url = service.url.replace(\"admin\", \"rest\").replace(f\".{service.properties.type}\", f\"/{service.properties.type}\")\n",
    "    return url\n",
    "    \n",
    "def get_stopped_services(folder):\n",
    "    # Initialize an empty list to store services that are stopped\n",
    "    delete_list = []\n",
    "    exempt_folders = ['Hosted', 'Utilities', 'System']\n",
    "    \n",
    "    print(\"Adding the following stopped services to a delete list\")\n",
    "    # Loop through services in the specified folder\n",
    "    for service in ags.services.list(folder):\n",
    "        # Check if the service state is 'STOPPED'\n",
    "        state = service.status['realTimeState']\n",
    "        if state == 'STOPPED':\n",
    "            print(service)\n",
    "            # Add the folder and service to the delete list\n",
    "            delete_list.append([folder, service])\n",
    "    return delete_list\n",
    "\n",
    "def get_service_info(folder, service):\n",
    "    # Extract and return detailed information about the service\n",
    "    server_folder = folder\n",
    "    name = service.properties.serviceName\n",
    "    state = service.status['realTimeState']\n",
    "    service_capabilities = service.properties['capabilities']\n",
    "    manifest = service.iteminformation.manifest\n",
    "    url = adjust_url(service)\n",
    "    \n",
    "    database = None\n",
    "    server = None\n",
    "    db_user = None \n",
    "    # If the service uses databases, extract connection details\n",
    "    if manifest['databases']:\n",
    "        conn_string = manifest['databases'][0]['onServerConnectionString']\n",
    "        server = conn_string.split('INSTANCE=sde:sqlserver:')[-1].split(';')[0]\n",
    "        database = conn_string.split('DATABASE=')[-1].split(';')[0]\n",
    "        db_user = conn_string.split(';USER=')[-1].split(';')[0]\n",
    "    \n",
    "    authoring_doc = None\n",
    "    author = None\n",
    "    # If the service has resources, extract authoring document and author\n",
    "    if manifest['resources']:\n",
    "        authoring_doc = manifest['resources'][0]['onPremisePath']\n",
    "        author = manifest['resources'][0]['clientName']\n",
    "    \n",
    "    feature_access = None\n",
    "    feature_service_capabilities = None\n",
    "    # If the service is a MapServer, check for FeatureServer extension and its capabilities\n",
    "    if service.properties.type == 'MapServer':\n",
    "        for extension in service.properties.extensions:\n",
    "            if extension['typeName'] == 'FeatureServer':\n",
    "                if extension['enabled'] == 'true':\n",
    "                    feature_access = 'Yes'\n",
    "                    feature_service_capabilities = extension['capabilities']\n",
    "         \n",
    "    # Return the extracted information as a list\n",
    "    return [server_folder, name, state, url,service_capabilities, feature_access, feature_service_capabilities, \n",
    "            database, db_user, server, authoring_doc, author]\n",
    "\n",
    "def delete_services(list):\n",
    "    # Loop through the list of stopped services and delete each one\n",
    "    for folder, service in list:\n",
    "        '''MAKE SURE TO UNCOMMENT THE LINE BELOW WHEN READY TO DELETE'''\n",
    "        #service.delete()\n",
    "        print(f\"{service.properties.serviceName} DELETED\")"
   ]
  },
  {
   "cell_type": "markdown",
   "id": "6f212384",
   "metadata": {},
   "source": [
    "# Connect to GIS"
   ]
  },
  {
   "cell_type": "code",
   "execution_count": null,
   "id": "8b43c6ce",
   "metadata": {},
   "outputs": [],
   "source": [
    "# Connect to your GIS - Input your portal URL, admin username, and password\n",
    "gis = GIS('portal url', 'admin user', 'admin password')\n",
    "\n",
    "# If you only have one ArcGIS Server, the index position will always be 0. \n",
    "# If you have more than one, the Host will be at index 0 followed by other servers.\n",
    "ags = gis.admin.servers.list()[0]"
   ]
  },
  {
   "cell_type": "markdown",
   "id": "e3fcddab",
   "metadata": {},
   "source": [
    "# Grab services to delete - services must be stopped"
   ]
  },
  {
   "cell_type": "code",
   "execution_count": null,
   "id": "4cf02075",
   "metadata": {},
   "outputs": [],
   "source": [
    "# Get the list of stopped services in a folder\n",
    "delete_list = get_stopped_services('Tmp')"
   ]
  },
  {
   "cell_type": "markdown",
   "id": "c351bf27",
   "metadata": {},
   "source": [
    "# Create and export your archive file - Adjust folder_dir variable"
   ]
  },
  {
   "cell_type": "code",
   "execution_count": null,
   "id": "0da8a826",
   "metadata": {},
   "outputs": [],
   "source": [
    "# Initialize an empty list to store service information\n",
    "archive = []\n",
    "# Loop through the delete list and get detailed information for each service\n",
    "for folder, service in delete_list:\n",
    "    archive.append(get_service_info(folder, service))\n",
    "\n",
    "# Create a DataFrame from the collected service information\n",
    "df = pd.DataFrame(data=archive, columns=['Folder Name', 'Name', 'State', 'Map Service URL', 'Service Capabilities', \n",
    "                                         \"Feature Access\", \"Feature Capabilities\", 'Database', \n",
    "                                         'DB User', 'Server', 'Publishing Document', 'Authoring Computer Name'])\n",
    "\n",
    "# Define the folder and name for the Excel file to store the archive\n",
    "folder_dir = r\"C:\\jlopez\\ExcelReport\"\n",
    "\n",
    "\n",
    "file_name = f\"{folder} Services Archive\"\n",
    "archive_file = f\"{folder_dir}\\\\{file_name}.xlsx\"\n",
    "\n",
    "# Save the DataFrame to an Excel file\n",
    "df.to_excel(archive_file, index=False)\n",
    "# Print the contents of the DataFrame\n",
    "df.head(len(df))"
   ]
  },
  {
   "cell_type": "markdown",
   "id": "848aa1f2",
   "metadata": {},
   "source": [
    "# Delete Services"
   ]
  },
  {
   "cell_type": "code",
   "execution_count": null,
   "id": "6660919d",
   "metadata": {},
   "outputs": [],
   "source": [
    "delete_services(delete_list)"
   ]
  }
 ],
 "metadata": {
  "kernelspec": {
   "display_name": "Python 3",
   "language": "python",
   "name": "python3"
  },
  "language_info": {
   "codemirror_mode": {
    "name": "ipython",
    "version": 3
   },
   "file_extension": ".py",
   "mimetype": "text/x-python",
   "name": "python",
   "nbconvert_exporter": "python",
   "pygments_lexer": "ipython3",
   "version": "3.7.11"
  }
 },
 "nbformat": 4,
 "nbformat_minor": 5
}
