{
 "cells": [
  {
   "cell_type": "code",
   "execution_count": null,
   "id": "fd609a11",
   "metadata": {},
   "outputs": [],
   "source": [
    "#Import required modules\n",
    "\n",
    "from arcgis.gis import GIS\n",
    "import pandas as pd\n",
    "import datetime\n",
    "import time\n",
    "import pytz"
   ]
  },
  {
   "cell_type": "code",
   "execution_count": null,
   "id": "b40d3ea6",
   "metadata": {},
   "outputs": [],
   "source": [
    "#Connect to your GIS\n",
    "#Update the url, username, and password\n",
    "gis = GIS(url='portalurl', username='admin', password='admin pw')\n",
    "\n",
    "#Connect to your ArcGIS Server\n",
    "ags = gis.admin.servers.list()[0]\n",
    "\n",
    "#Verify connection\n",
    "ags"
   ]
  },
  {
   "cell_type": "code",
   "execution_count": null,
   "id": "f1edb0ac",
   "metadata": {},
   "outputs": [],
   "source": [
    "#Function for grabbing the server logs by server folder\n",
    "\n",
    "def get_logs(folder):\n",
    "    # Set the current time and calculate the start time and end time\n",
    "    now = datetime.datetime.now()\n",
    "    starttime = now - datetime.timedelta(days=0)\n",
    "    endtime = now - datetime.timedelta(days=2)\n",
    "\n",
    "    # Define timezones\n",
    "    us_central_timezone = pytz.timezone('US/Central')\n",
    "\n",
    "    # Measure the time taken to query the logs\n",
    "    query_start_time = time.time()\n",
    "    print('Querying Logs')\n",
    "    recent_logs = ags.logs.query(level='WARNING',start_time=starttime, end_time=endtime)\n",
    "    query_end_time = time.time()\n",
    "    query_time = query_end_time - query_start_time\n",
    "\n",
    "    # Measure the time taken to process the logs\n",
    "    processing_start_time = time.time()\n",
    "    \n",
    "    #Process logs\n",
    "    logs = []\n",
    "    for log in recent_logs['logMessages']:\n",
    "        if log['source'].split('/')[0] == folder:\n",
    "            value = log['time']\n",
    "            utc_datetime = datetime.datetime.utcfromtimestamp(value / 1000.0).replace(tzinfo=pytz.UTC)\n",
    "            us_central_datetime = utc_datetime.astimezone(us_central_timezone)\n",
    "            date = us_central_datetime.strftime('%m/%d/%Y %H:%M:%S')\n",
    "            logs.append((log['type'], date, log['source'], log['message'], log['user'], log['machine'], log['code'], log['methodName'], log['requestID']))\n",
    "\n",
    "    processing_end_time = time.time()\n",
    "    processing_time = processing_end_time - processing_start_time\n",
    "\n",
    "    # Print the times\n",
    "    print(f\"Time taken to query the logs: {query_time:.2f} seconds\")\n",
    "    print(f\"Time taken to process the logs: {processing_time:.2f} seconds\")\n",
    "\n",
    "    # Create the Dataframe\n",
    "    columns = ['Type', 'Date', 'Source', 'Message', 'User', 'Machine', 'Code', 'Method Name', 'Request ID']\n",
    "    df = pd.DataFrame(logs, columns = columns)\n",
    "    server_url = ags.url.split('//')[1]\n",
    "    web_url = server_url.split('/')[0]\n",
    "    \n",
    "    #Update this variable to save to a difference loc\n",
    "    folder_dir = r\"C:\\\"\n",
    "    \n",
    "    #Spreadsheet name\n",
    "    xcel = f\"{folder_dir}/{web_url}-{folder}.xlsx\"\n",
    "    print(xcel)\n",
    "    \n",
    "    #export to excel\n",
    "    df.to_excel(xcel, index = False)\n",
    "    \n",
    "    return df"
   ]
  },
  {
   "cell_type": "code",
   "execution_count": null,
   "id": "d26e0dd6",
   "metadata": {},
   "outputs": [],
   "source": [
    "#Execture the function. Update the folder with a folder from your ArcGIS Server\n",
    "df = get_logs('Folder Name Here')\n",
    "print(f\"There are {len(df)} log messages.\")"
   ]
  },
  {
   "cell_type": "code",
   "execution_count": null,
   "id": "e989d1d1",
   "metadata": {},
   "outputs": [],
   "source": [
    "#Display the dataframe\n",
    "df.head(-5)"
   ]
  },
  {
   "cell_type": "code",
   "execution_count": null,
   "id": "f6de97a4",
   "metadata": {},
   "outputs": [],
   "source": []
  }
 ],
 "metadata": {
  "kernelspec": {
   "display_name": "Python 3",
   "language": "python",
   "name": "python3"
  },
  "language_info": {
   "codemirror_mode": {
    "name": "ipython",
    "version": 3
   },
   "file_extension": ".py",
   "mimetype": "text/x-python",
   "name": "python",
   "nbconvert_exporter": "python",
   "pygments_lexer": "ipython3",
   "version": "3.7.11"
  }
 },
 "nbformat": 4,
 "nbformat_minor": 5
}
